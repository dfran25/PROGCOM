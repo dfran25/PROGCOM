{
  "nbformat": 4,
  "nbformat_minor": 0,
  "metadata": {
    "colab": {
      "name": "Untitled1.ipynb",
      "provenance": []
    },
    "kernelspec": {
      "name": "python3",
      "display_name": "Python 3"
    },
    "language_info": {
      "name": "python"
    }
  },
  "cells": [
    {
      "cell_type": "code",
      "execution_count": 28,
      "metadata": {
        "colab": {
          "base_uri": "https://localhost:8080/"
        },
        "id": "dGr8vG7Sk7xG",
        "outputId": "e204175d-46bf-4647-9ba3-d85529fdc53b"
      },
      "outputs": [
        {
          "output_type": "stream",
          "name": "stdout",
          "text": [
            "escriba un numero entero a dividir4\n",
            "escribe el numero entero que va dividir 2\n",
            "el resultado de la division es  2.0 el residuo de tu division es  0 si residuo cero tu divison es entera\n"
          ]
        }
      ],
      "source": [
        "#1\n",
        "from IPython.lib.display import YouTubeVideo\n",
        "x=int(input(\"escriba un numero entero a dividir\"))\n",
        "y=int(input(\"escribe el numero entero que va dividir \"))\n",
        "if y==0:\n",
        "  print(\"cero no es un numero valido\") ## si se divide en cero debe pedir un numero valido\n",
        "else:\n",
        "  z= x/y\n",
        "  c=x%y\n",
        "  print(\"el resultado de la division es \" ,z,\"el residuo de tu division es \" ,c , \"si residuo cero tu divison es entera\")\n",
        "\n"
      ]
    },
    {
      "cell_type": "code",
      "source": [
        "##2\n",
        "x=int(input(\"Escriba un primer numero para ver si es primo de otro\"))\n",
        "y=int(input(\"Ingrese un segundo numero para revisar si son primos\"))\n",
        "z=x%y\n",
        "if z==0:\n",
        "  print(\"Los numeros son primos\")\n",
        "else:\n",
        "  print(\"Los dos numeros no son primos y tiene residuo\", z )\n",
        "  "
      ],
      "metadata": {
        "colab": {
          "base_uri": "https://localhost:8080/"
        },
        "id": "clDbbJd2sJ3z",
        "outputId": "230049aa-7193-49de-a3e1-8381f60bd27b"
      },
      "execution_count": 30,
      "outputs": [
        {
          "output_type": "stream",
          "name": "stdout",
          "text": [
            "Escriba un primer numero para ver si es primo de otro5\n",
            "Ingrese un segundo numero para revisar si son primos2\n",
            "Los dos numeros no son primos y tiene residuo 1\n"
          ]
        }
      ]
    },
    {
      "cell_type": "code",
      "source": [
        "##3\n",
        "x=int(input(\"ingrese edad de la primera hermana\"))\n",
        "y-=int(input(\"Ingrese edad de la segunda hermana\"))\n",
        "z=int(input(\"Ingrese edad de la tercera hermana\"))\n",
        "vector= [x,y,z]\n",
        "vector.sort44\n",
        "print(edad)"
      ],
      "metadata": {
        "colab": {
          "base_uri": "https://localhost:8080/",
          "height": 287
        },
        "id": "vXVmdDyHtA16",
        "outputId": "8eadde98-5c5f-4d1b-928a-8bb69d17e1e0"
      },
      "execution_count": 35,
      "outputs": [
        {
          "name": "stdout",
          "output_type": "stream",
          "text": [
            "ingrese edad de la primera hermana74\n",
            "Ingrese edad de la segunda hermana4\n",
            "Ingrese edad de la tercera hermana\n"
          ]
        },
        {
          "output_type": "error",
          "ename": "ValueError",
          "evalue": "ignored",
          "traceback": [
            "\u001b[0;31m---------------------------------------------------------------------------\u001b[0m",
            "\u001b[0;31mValueError\u001b[0m                                Traceback (most recent call last)",
            "\u001b[0;32m<ipython-input-35-e917b7edc4b4>\u001b[0m in \u001b[0;36m<module>\u001b[0;34m()\u001b[0m\n\u001b[1;32m      1\u001b[0m \u001b[0mx\u001b[0m\u001b[0;34m=\u001b[0m\u001b[0mint\u001b[0m\u001b[0;34m(\u001b[0m\u001b[0minput\u001b[0m\u001b[0;34m(\u001b[0m\u001b[0;34m\"ingrese edad de la primera hermana\"\u001b[0m\u001b[0;34m)\u001b[0m\u001b[0;34m)\u001b[0m\u001b[0;34m\u001b[0m\u001b[0;34m\u001b[0m\u001b[0m\n\u001b[1;32m      2\u001b[0m \u001b[0my\u001b[0m\u001b[0;34m-=\u001b[0m\u001b[0mint\u001b[0m\u001b[0;34m(\u001b[0m\u001b[0minput\u001b[0m\u001b[0;34m(\u001b[0m\u001b[0;34m\"Ingrese edad de la segunda hermana\"\u001b[0m\u001b[0;34m)\u001b[0m\u001b[0;34m)\u001b[0m\u001b[0;34m\u001b[0m\u001b[0;34m\u001b[0m\u001b[0m\n\u001b[0;32m----> 3\u001b[0;31m \u001b[0mz\u001b[0m\u001b[0;34m=\u001b[0m\u001b[0mint\u001b[0m\u001b[0;34m(\u001b[0m\u001b[0minput\u001b[0m\u001b[0;34m(\u001b[0m\u001b[0;34m\"Ingrese edad de la tercera hermana\"\u001b[0m\u001b[0;34m)\u001b[0m\u001b[0;34m)\u001b[0m\u001b[0;34m\u001b[0m\u001b[0;34m\u001b[0m\u001b[0m\n\u001b[0m\u001b[1;32m      4\u001b[0m \u001b[0mvector\u001b[0m\u001b[0;34m=\u001b[0m \u001b[0;34m[\u001b[0m\u001b[0mx\u001b[0m\u001b[0;34m,\u001b[0m\u001b[0my\u001b[0m\u001b[0;34m,\u001b[0m\u001b[0mz\u001b[0m\u001b[0;34m]\u001b[0m\u001b[0;34m\u001b[0m\u001b[0;34m\u001b[0m\u001b[0m\n\u001b[1;32m      5\u001b[0m \u001b[0mvector\u001b[0m\u001b[0;34m.\u001b[0m\u001b[0msort\u001b[0m\u001b[0;34m\u001b[0m\u001b[0;34m\u001b[0m\u001b[0m\n",
            "\u001b[0;31mValueError\u001b[0m: invalid literal for int() with base 10: ''"
          ]
        }
      ]
    },
    {
      "cell_type": "code",
      "source": [
        "##4.\tDIAN le ha contratado para identificar si una persona debe pagar impuesto de renta o no. ¿Qué datos debería suministrar? Escriba un programa con su solución.\n",
        "print(\"VAMOS A REVISAR SI DEBES PAGAR RENTA\")\n",
        "name=str(input(\"ingrese su numero de cedula\"))\n",
        "salario=int(input(\"ingrese su salario mensual\"))\n",
        "if salario== 49850000:\n",
        "  print(\"DEBES PAGAR RENTA\")\n",
        "else:\n",
        "  print(\"NO DEBES PAGAR RENTA\")"
      ],
      "metadata": {
        "colab": {
          "base_uri": "https://localhost:8080/"
        },
        "id": "_3nJjfoyyMlW",
        "outputId": "c6cf681d-fa5c-4ea1-f373-6bbf93225296"
      },
      "execution_count": 37,
      "outputs": [
        {
          "output_type": "stream",
          "name": "stdout",
          "text": [
            "VAMOS A REVISAR SI DEBES PAGAR RENTA\n",
            "ingrese su numero de cedula1098708249\n",
            "ingrese su salario mensual120000\n",
            "NO DEBES PAGAR RENTA\n"
          ]
        }
      ]
    }
  ]
}