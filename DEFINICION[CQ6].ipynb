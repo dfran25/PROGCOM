{
  "nbformat": 4,
  "nbformat_minor": 0,
  "metadata": {
    "colab": {
      "provenance": [],
      "authorship_tag": "ABX9TyOnubrvnEKcTQF+KB0hQ6Oq",
      "include_colab_link": true
    },
    "kernelspec": {
      "name": "python3",
      "display_name": "Python 3"
    },
    "language_info": {
      "name": "python"
    }
  },
  "cells": [
    {
      "cell_type": "markdown",
      "metadata": {
        "id": "view-in-github",
        "colab_type": "text"
      },
      "source": [
        "<a href=\"https://colab.research.google.com/github/dfran25/PROGCOM/blob/main/DEFINICION%5BCQ6%5D.ipynb\" target=\"_parent\"><img src=\"https://colab.research.google.com/assets/colab-badge.svg\" alt=\"Open In Colab\"/></a>"
      ]
    },
    {
      "cell_type": "code",
      "execution_count": 1,
      "metadata": {
        "colab": {
          "base_uri": "https://localhost:8080/"
        },
        "id": "7MXgTjp1Chm0",
        "outputId": "149580e4-47e2-4dc1-e6fd-fea644e722b5"
      },
      "outputs": [
        {
          "output_type": "stream",
          "name": "stdout",
          "text": [
            "False\n"
          ]
        }
      ],
      "source": [
        "#False, True y None son valores que pueden ser asignados a variables, siendo los dos primeros booleanos y el último algo parecido al null de otros lenguajes de programación.\n",
        "\n",
        "#Si realizamos una comparación usando el operador relacional == se nos devolverá True o False.\n",
        "\n",
        "x = (5 == 1)\n",
        "print(x)\n",
        "# Salida: False"
      ]
    },
    {
      "cell_type": "code",
      "source": [
        "x = True\n",
        "if x:\n",
        "    print(\"Python!\")\n",
        "    \n",
        "# Salida: Python!"
      ],
      "metadata": {
        "colab": {
          "base_uri": "https://localhost:8080/"
        },
        "id": "Jqkf3m6gCzs9",
        "outputId": "646fdb17-da03-45a4-c4af-01e85f0bd27a"
      },
      "execution_count": 2,
      "outputs": [
        {
          "output_type": "stream",
          "name": "stdout",
          "text": [
            "Python!\n"
          ]
        }
      ]
    },
    {
      "cell_type": "code",
      "source": [
        "def mi_funcion():\n",
        "    pass\n",
        "\n",
        "print(mi_funcion())\n",
        "# Salida: None"
      ],
      "metadata": {
        "id": "tfjfJT1XC7IU"
      },
      "execution_count": null,
      "outputs": []
    },
    {
      "cell_type": "code",
      "source": [
        "#and es u operador logico para asignar mas de una condición\n",
        "\n",
        "a=5\n",
        "if a<10 and a==5:\n",
        "  print(a)\n",
        "else:\n",
        "  print(\"Intenta de nuevo\")\n"
      ],
      "metadata": {
        "colab": {
          "base_uri": "https://localhost:8080/"
        },
        "id": "OSXhvNxGDF1-",
        "outputId": "29d04787-f646-43cd-8a8e-529dc99a9c23"
      },
      "execution_count": 3,
      "outputs": [
        {
          "output_type": "stream",
          "name": "stdout",
          "text": [
            "5\n"
          ]
        }
      ]
    },
    {
      "cell_type": "code",
      "source": [
        "#El uso de assert en Python nos permite realizar comprobaciones. \n",
        "assert(a==5)\n",
        "print(a)"
      ],
      "metadata": {
        "colab": {
          "base_uri": "https://localhost:8080/"
        },
        "id": "zMZbiDMxD4vq",
        "outputId": "a6375df0-e8c7-49b6-c983-79efec94aa77"
      },
      "execution_count": 6,
      "outputs": [
        {
          "output_type": "stream",
          "name": "stdout",
          "text": [
            "5\n"
          ]
        }
      ]
    },
    {
      "cell_type": "code",
      "source": [
        "#La sentencia break nos permite alterar el comportamiento de los bucles while y for. Concretamente, permite terminar con la ejecución del bucle.\n",
        "for i in range(5):\n",
        "    print(i)\n",
        "    break"
      ],
      "metadata": {
        "id": "cqOkXlitEh4c"
      },
      "execution_count": null,
      "outputs": []
    },
    {
      "cell_type": "code",
      "source": [
        "#El uso de class nos permite crear clases. Las clases son el núcleo de la programación orientada objetos, y son una especie de estructura de datos \n",
        "#que agrupa un conjunto de funciones (métodos) y variables (atributos).\n",
        "class MiClase:\n",
        "    def __init__(self):\n",
        "        print(\"Creando objeto de MiClase\")"
      ],
      "metadata": {
        "id": "GwhmTi7eEvok"
      },
      "execution_count": 9,
      "outputs": []
    },
    {
      "cell_type": "code",
      "source": [
        "#El uso de continue al igual que el ya visto break, nos permite modificar el comportamiento de de los bucles while y for.\n",
        "cadena = 'hola'\n",
        "for letra in cadena:\n",
        "    if letra == 'h':\n",
        "        continue\n",
        "    print(letra)"
      ],
      "metadata": {
        "colab": {
          "base_uri": "https://localhost:8080/"
        },
        "id": "IxmAIOLTFRyU",
        "outputId": "edb819f0-36c8-4ff5-d4c6-6f2f69610c15"
      },
      "execution_count": 10,
      "outputs": [
        {
          "output_type": "stream",
          "name": "stdout",
          "text": [
            "o\n",
            "l\n",
            "a\n"
          ]
        }
      ]
    },
    {
      "cell_type": "code",
      "source": [
        "#El uso de def nos permite crear una función.\n",
        "def funcion_resta(a, b):\n",
        "    print(\"La resta es\", a - b)\n",
        "\n",
        "funcion_resta(8, 5)"
      ],
      "metadata": {
        "colab": {
          "base_uri": "https://localhost:8080/"
        },
        "id": "TEuQ-31xFxhM",
        "outputId": "cef2c881-e75d-4543-8ecc-4147399401c4"
      },
      "execution_count": 11,
      "outputs": [
        {
          "output_type": "stream",
          "name": "stdout",
          "text": [
            "La resta es 3\n"
          ]
        }
      ]
    },
    {
      "cell_type": "code",
      "source": [
        "#elif es para adicionar mas condiciones dentro de un condicional para evaluar como true\n",
        "if 2<5:\n",
        "  print(True)\n",
        "elif 3<5:\n",
        "  print(True)"
      ],
      "metadata": {
        "colab": {
          "base_uri": "https://localhost:8080/"
        },
        "id": "mxN8afKQGBK2",
        "outputId": "29707ce4-edbf-4ad9-deb5-22e80390593c"
      },
      "execution_count": 12,
      "outputs": [
        {
          "output_type": "stream",
          "name": "stdout",
          "text": [
            "True\n"
          ]
        }
      ]
    },
    {
      "cell_type": "code",
      "source": [
        "from prompt_toolkit.filters.cli import emacs_selection_mode\n",
        "#else sirve para mirar la condicion falsa dentro del condicional\n",
        "if 2<5:\n",
        "  print(True)\n",
        "else:\n",
        "  print(False)"
      ],
      "metadata": {
        "id": "vj4Na9YVGtI2"
      },
      "execution_count": null,
      "outputs": []
    },
    {
      "cell_type": "code",
      "source": [
        "#except nos permite hacer excepciones y saltar errores.\n",
        "try:\n",
        "    d = 2 + \"Hola\"\n",
        "\n",
        "except TypeError:\n",
        "    print(\"Problema de tipos!\")"
      ],
      "metadata": {
        "colab": {
          "base_uri": "https://localhost:8080/"
        },
        "id": "JKFhhxP9G7vj",
        "outputId": "2a41c0ae-5d8a-405b-8573-dc8deb9627aa"
      },
      "execution_count": 14,
      "outputs": [
        {
          "output_type": "stream",
          "name": "stdout",
          "text": [
            "Problema de tipos!\n"
          ]
        }
      ]
    },
    {
      "cell_type": "code",
      "source": [
        "#Permite añadir un bloque mas al código.\n",
        "try:\n",
        "    # Forzamos excepción\n",
        "    x = 2/0\n",
        "except:\n",
        "    # Se entra ya que ha habido una excepción\n",
        "    print(\"Entra en except, ha ocurrido una excepción\")\n",
        "finally:\n",
        "    # También entra porque finally es ejecutado siempre\n",
        "    print(\"Entra en finally, se ejecuta el bloque finally\")"
      ],
      "metadata": {
        "id": "p6Qmy6pAHeYU"
      },
      "execution_count": null,
      "outputs": []
    },
    {
      "cell_type": "code",
      "source": [
        "#for es un ciclo del que se sabe cuantas veces va a iterar\n",
        "num = [4, 78, 9, 84]\n",
        "for n in num:\n",
        "    print(n)"
      ],
      "metadata": {
        "id": "55COSaFMHtj7"
      },
      "execution_count": null,
      "outputs": []
    },
    {
      "cell_type": "code",
      "source": [
        "#from es una palabra reservada en el sistema que nos permite llamar funciones , variables y clases del sistema"
      ],
      "metadata": {
        "id": "nhcC4LISJljd"
      },
      "execution_count": null,
      "outputs": []
    },
    {
      "cell_type": "code",
      "source": [
        "#El uso de global permite realizar lo siguiente, y de no usarlo tendríamos un UnboundLocalError. Aunque puede resultar muy útil, mucho cuidado con las variables globales.\n",
        "a = 0\n",
        "\n",
        "def suma_uno():\n",
        "    global a\n",
        "    a = a + 3\n",
        "\n",
        "suma_uno()\n",
        "print(a)\n"
      ],
      "metadata": {
        "colab": {
          "base_uri": "https://localhost:8080/"
        },
        "id": "KVv2TCGfJ8qw",
        "outputId": "c601c425-ccd2-45b5-c363-9104b8123c27"
      },
      "execution_count": 16,
      "outputs": [
        {
          "output_type": "stream",
          "name": "stdout",
          "text": [
            "3\n"
          ]
        }
      ]
    },
    {
      "cell_type": "code",
      "source": [
        "# if es un condicional en el sistema , sirve para comprobar una condición\n",
        "a = 6\n",
        "b = 4\n",
        "if b != 0:\n",
        "    print(a/b)"
      ],
      "metadata": {
        "colab": {
          "base_uri": "https://localhost:8080/"
        },
        "id": "CDbATab0Kjxd",
        "outputId": "634ec365-09f6-4269-b833-79d130e87aa2"
      },
      "execution_count": 18,
      "outputs": [
        {
          "output_type": "stream",
          "name": "stdout",
          "text": [
            "1.5\n"
          ]
        }
      ]
    },
    {
      "cell_type": "code",
      "source": [
        "#import sirve para llamar librerias o funciones especiales del sistema\n",
        "import random\n"
      ],
      "metadata": {
        "id": "3pDGunt9K9gM"
      },
      "execution_count": null,
      "outputs": []
    },
    {
      "cell_type": "code",
      "source": [
        "#in es un operador de pertenencia que da un valor de true o false (boolenao)\n",
        "a = [1,2,3,4,5]\n",
        "  \n",
        "print(3 in a)"
      ],
      "metadata": {
        "colab": {
          "base_uri": "https://localhost:8080/"
        },
        "id": "8uvK36hILLjM",
        "outputId": "38b94e80-bcd3-4d5f-93b5-0ba256c8f3ce"
      },
      "execution_count": 20,
      "outputs": [
        {
          "output_type": "stream",
          "name": "stdout",
          "text": [
            "True\n"
          ]
        }
      ]
    },
    {
      "cell_type": "code",
      "source": [
        "#lambda es una funcion anonima del sistema\n",
        "def cuadrado(x):\n",
        "  return x ** 2\n",
        "  cuad = lambda x: x ** 2\n",
        "print(cuadrado(3))"
      ],
      "metadata": {
        "colab": {
          "base_uri": "https://localhost:8080/"
        },
        "id": "cABfQeRmLz-e",
        "outputId": "89701040-1ebf-4daa-aba6-4ec9aa1ebce3"
      },
      "execution_count": 21,
      "outputs": [
        {
          "output_type": "stream",
          "name": "stdout",
          "text": [
            "9\n"
          ]
        }
      ]
    },
    {
      "cell_type": "code",
      "source": [
        "#nonlocal se usa para funciones anidadas y no retomar el valor global de la primera función.\n",
        "\n",
        "def funcion_a():\n",
        "    x = 10\n",
        "\n",
        "    def funcion_b():\n",
        "        nonlocal x\n",
        "        x = 20\n",
        "        print(\"funcion_b\", x)\n",
        "  #x=20\n"
      ],
      "metadata": {
        "id": "l9-EPsFYMaAk"
      },
      "execution_count": 24,
      "outputs": []
    },
    {
      "cell_type": "code",
      "source": [
        "#not nos permite hacer una negación\n",
        "\n",
        "not True"
      ],
      "metadata": {
        "colab": {
          "base_uri": "https://localhost:8080/"
        },
        "id": "9EJobg4zM-lA",
        "outputId": "f13d0515-e980-4be2-b555-8b4f37bca9ce"
      },
      "execution_count": 25,
      "outputs": [
        {
          "output_type": "execute_result",
          "data": {
            "text/plain": [
              "False"
            ]
          },
          "metadata": {},
          "execution_count": 25
        }
      ]
    },
    {
      "cell_type": "code",
      "source": [
        "#or nos permite anidar una condicion mas a evaluar sin estar sujeta a cumplir ambas , es excluyente\n",
        "a=3\n",
        "if a>9 or a>0:\n",
        "  print(\"LO LOGRAMOS\")"
      ],
      "metadata": {
        "colab": {
          "base_uri": "https://localhost:8080/"
        },
        "id": "91arRgnXNbCt",
        "outputId": "e3186aba-b396-404b-8039-55ca9c67670a"
      },
      "execution_count": 3,
      "outputs": [
        {
          "output_type": "stream",
          "name": "stdout",
          "text": [
            "LO LOGRAMOS\n"
          ]
        }
      ]
    },
    {
      "cell_type": "code",
      "source": [
        "#PASS podemos usar pass cuando no queramos definir la función, es decir si la queremos dejar en blanco por el momento.\n",
        "def funcion_suma(a, b):\n",
        "    pass"
      ],
      "metadata": {
        "id": "gNw53se7bXw4"
      },
      "execution_count": null,
      "outputs": []
    },
    {
      "cell_type": "code",
      "source": [
        "# raiseSIRVE PARA HACER EXCEPCIONES\n",
        "a = 5; b = 0\n",
        "try:\n",
        "    c = a/b\n",
        "raise ZeroDivisionError:\n",
        "    print(\"No se ha podido realizar la división\")\n",
        "\n"
      ],
      "metadata": {
        "id": "1JWTO3RHb0hH"
      },
      "execution_count": 6,
      "outputs": []
    },
    {
      "cell_type": "code",
      "source": [
        "# El uso de la sentencia return permite realizar dos cosas:\n",
        "\n",
        "#Salir de la función y transferir la ejecución de vuelta a donde se realizó la llamada.\n",
        "#Devolver uno o varios parámetros, fruto de la ejecución de la función.\n",
        "\n",
        "def mi_funcion():\n",
        "    print(\"Entra en mi_funcion\")\n",
        "    return\n",
        "    print(\"No llega\")\n",
        "mi_funcion() # Entra en mi_funcion"
      ],
      "metadata": {
        "id": "IpIqFmSydEO3"
      },
      "execution_count": null,
      "outputs": []
    },
    {
      "cell_type": "code",
      "source": [
        "#try, ayuda a capturar excepciones de errores\n",
        "try:\n",
        "    #c = 5/0       # Si comentas esto entra en TypeError\n",
        "    d = 2 + \"Hola\" # Si comentas esto entra en ZeroDivisionError\n",
        "except (ZeroDivisionError, TypeError):\n",
        "    print(\"Excepcion ZeroDivisionError/TypeError\")\n",
        "    "
      ],
      "metadata": {
        "id": "uI-ijR_6dglH"
      },
      "execution_count": null,
      "outputs": []
    },
    {
      "cell_type": "code",
      "source": [
        "#while es un ciclo de repeticion , se detiene cuando se deja ed cumplir la condicion asignada\n",
        "\n",
        "x = 5\n",
        "while x > 0:\n",
        "    x -=1\n",
        "    print(x)\n"
      ],
      "metadata": {
        "id": "knT5N5EguVYf"
      },
      "execution_count": null,
      "outputs": []
    },
    {
      "cell_type": "code",
      "source": [
        "#with no existe en todas las versiones de python sirve para etiquetar"
      ],
      "metadata": {
        "id": "U0Tfm0_yun5r"
      },
      "execution_count": null,
      "outputs": []
    },
    {
      "cell_type": "code",
      "source": [
        "#yield está asociado a los generadores y las corrutinas, un concepto un tanto avanzado pero muy interesante.\n",
        "def generador():\n",
        "    n = 1\n",
        "    yield n\n",
        "\n",
        "    n += 1\n",
        "    yield n\n",
        "\n",
        "    n += 1\n",
        "    yield n\n",
        "\n",
        "for i in generador():\n",
        "    print(i)"
      ],
      "metadata": {
        "id": "HCGYHwW1vLZu"
      },
      "execution_count": null,
      "outputs": []
    }
  ]
}