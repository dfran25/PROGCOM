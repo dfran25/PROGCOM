{
  "nbformat": 4,
  "nbformat_minor": 0,
  "metadata": {
    "colab": {
      "provenance": [],
      "authorship_tag": "ABX9TyMvHBm7SpYVTy+NeM43+6cn",
      "include_colab_link": true
    },
    "kernelspec": {
      "name": "python3",
      "display_name": "Python 3"
    },
    "language_info": {
      "name": "python"
    }
  },
  "cells": [
    {
      "cell_type": "markdown",
      "metadata": {
        "id": "view-in-github",
        "colab_type": "text"
      },
      "source": [
        "<a href=\"https://colab.research.google.com/github/dfran25/PROGCOM/blob/main/FUNCIONES.ipynb\" target=\"_parent\"><img src=\"https://colab.research.google.com/assets/colab-badge.svg\" alt=\"Open In Colab\"/></a>"
      ]
    },
    {
      "cell_type": "markdown",
      "source": [
        "##FUNCIONES PARTE A\n",
        "\n",
        "def(nombre cualquiera)(parametros o argumentos):\n",
        "  Lo que va dentro de la función.\n",
        "\n"
      ],
      "metadata": {
        "id": "IhboZKf80elo"
      }
    },
    {
      "cell_type": "code",
      "source": [
        "TIPOS \n",
        "\n",
        "1) Sin parametros sin retorno.\n",
        "def manuel():\n",
        "  print(\"tome su 5\") \\\n",
        "2) Sin parametros con retonor.\n",
        "def manuel():\n",
        "  print (\"hola nicolas\")\n",
        "  a=5\n",
        "  return a \\\n",
        "3) Con parametros, sin retorno.\n",
        "def holi(a,\"b\", x=3):\n",
        "  int a\n",
        "  b=string\n",
        "  x=boolean\n",
        "  print(\"Hola nicolas\")\n",
        "\n",
        "  a=5 \\\n",
        "4) Con parametros, sin retorno.\n",
        "def holi(a,\"b\", x=3):\n",
        "  int a\n",
        "  b=string\n",
        "  x=boolean\n",
        "  print(\"Hola nicolas\")\n",
        "\n",
        "  a=5\n",
        "  return a \\"
      ],
      "metadata": {
        "id": "pUPBPjaB3rE4"
      },
      "execution_count": null,
      "outputs": []
    },
    {
      "cell_type": "code",
      "source": [
        "def salude():\n",
        "  print(\"saludar\")\n",
        "  print(\"Es de cracks\")"
      ],
      "metadata": {
        "id": "2IL5keZf31hN"
      },
      "execution_count": 1,
      "outputs": []
    },
    {
      "cell_type": "code",
      "source": [
        "a=int(input(\"Ingrese un numero\"))\n",
        "b=int(input(\"Ingrese un numero\"))\n",
        "c=int(input(\"Ingrese un numero\"))\n",
        "\n",
        "if a!=b and a!=b and b!=c:\n",
        "  if a>b and a>c:\n",
        "    if b>c:\n",
        "      print(f\"el mayor es \" , a)\n",
        "      print(f\"el del medio es b\",b)\n",
        "      print(f\"el menor es c\", c)\n",
        "    else:\n",
        "      print(f\"el mayor es\", a)\n",
        "      print(f\"el del medio es c\",c)\n",
        "      print(f\"el menor es b\",b)\n",
        "  elif b>a and b>c:\n",
        "    if a>c:\n",
        "      print(f\"el mayor es\", b)\n",
        "      print(f\"el del medio es a\",a)\n",
        "      print(f\"el menor es b\",c)\n",
        "    else:\n",
        "      print(f\"el mayor es\", b)\n",
        "      print(f\"el del medio es c\",c)\n",
        "      print(f\"el menor es b\",a)\n",
        "  elif c>a and c>b:\n",
        "    if b>a:\n",
        "      print(f\"el mayor es\", c)\n",
        "      print(f\"el del medio es a\",b)\n",
        "      print(f\"el menor es b\",a)\n",
        "    else:\n",
        "      print(f\"el mayor es\", c)\n",
        "      print(f\"el del medio es c\",a)\n",
        "      print(f\"el menor es b\",b)\n",
        "\n",
        "    "
      ],
      "metadata": {
        "colab": {
          "base_uri": "https://localhost:8080/"
        },
        "id": "jxeEhgQ30m83",
        "outputId": "48d9bc8c-3bc6-48ea-bdbf-553c989b7ecc"
      },
      "execution_count": 3,
      "outputs": [
        {
          "output_type": "stream",
          "name": "stdout",
          "text": [
            "Ingrese un numero5\n",
            "Ingrese un numero4\n",
            "Ingrese un numero8\n",
            "el mayor es 8\n",
            "el del medio es c 5\n",
            "el menor es b 4\n"
          ]
        }
      ]
    },
    {
      "cell_type": "code",
      "source": [
        "def imprimir(a,b,c):\n",
        "  a=int(input(f\"EL MAYOR ES\", a))\n",
        "  b=int(input(f\"EL VALOR MENOR ES\",b))\n",
        "  c=int(input(f\"el valor medio es\",c))\n",
        "  "
      ],
      "metadata": {
        "id": "rVqPFb-v8yEC"
      },
      "execution_count": 10,
      "outputs": []
    },
    {
      "cell_type": "code",
      "source": [
        "a=int(input(\"Ingrese un numero\"))\n",
        "b=int(input(\"Ingrese un numero\"))\n",
        "c=int(input(\"Ingrese un numero\"))\n",
        "\n",
        "if a!=b and a!=b and b!=c:\n",
        "  if a>b and a>c:\n",
        "    if b>c:\n",
        "      print(f\"el mayor es \" , a)\n",
        "      print(f\"el del medio es b\",b)\n",
        "      print(f\"el menor es c\", c)\n",
        "    else:\n",
        "      print(f\"el mayor es\", a)\n",
        "      print(f\"el del medio es c\",c)\n",
        "      print(f\"el menor es b\",b)\n",
        "  elif b>a and b>c:\n",
        "    if a>c:\n",
        "      print(f\"el mayor es\", b)\n",
        "      print(f\"el del medio es a\",a)\n",
        "      print(f\"el menor es b\",c)\n",
        "    else:\n",
        "      print(f\"el mayor es\", b)\n",
        "      print(f\"el del medio es c\",c)\n",
        "      print(f\"el menor es b\",a)\n",
        "  elif c>a and c>b:\n",
        "    if b>a:\n",
        "      imprimir(c,a,b)\n",
        "    else:\n",
        "      imprimir(b,a,c)\n"
      ],
      "metadata": {
        "id": "PDPWTGExAFZr"
      },
      "execution_count": null,
      "outputs": []
    },
    {
      "cell_type": "code",
      "source": [
        "def vocal():\n",
        "  a=str(input(\"INGRESE UNA LETRA\"))\n",
        "  if a==\"a\" or a==\"e\" or a==\"i\" or a==\"o\" or a==\"u\" or a==\"A\" or a==\"E\" or a==\"I\" or a==\"O\" or a==\"U\":\n",
        "    print(\"LA LETRA ES VOCAL\")\n",
        "  else:\n",
        "    print(\"es consonante\")\n",
        "  \n",
        "vocal()\n"
      ],
      "metadata": {
        "colab": {
          "base_uri": "https://localhost:8080/"
        },
        "id": "--Ap27RmEvTC",
        "outputId": "53af368f-dc6b-4164-fc1f-e08fd78129c5"
      },
      "execution_count": 21,
      "outputs": [
        {
          "output_type": "stream",
          "name": "stdout",
          "text": [
            "INGRESE UNA LETRAI\n",
            "LA LETRA ES VOCAL\n"
          ]
        }
      ]
    }
  ]
}