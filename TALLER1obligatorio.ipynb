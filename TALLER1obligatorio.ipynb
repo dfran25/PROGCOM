{
  "nbformat": 4,
  "nbformat_minor": 0,
  "metadata": {
    "colab": {
      "name": "TALLER1obligatorio.ipynb",
      "provenance": [],
      "authorship_tag": "ABX9TyOuXuLcwK03An4q44J/fDbb",
      "include_colab_link": true
    },
    "kernelspec": {
      "name": "python3",
      "display_name": "Python 3"
    },
    "language_info": {
      "name": "python"
    }
  },
  "cells": [
    {
      "cell_type": "markdown",
      "metadata": {
        "id": "view-in-github",
        "colab_type": "text"
      },
      "source": [
        "<a href=\"https://colab.research.google.com/github/dfran25/PROGCOM/blob/main/TALLER1obligatorio.ipynb\" target=\"_parent\"><img src=\"https://colab.research.google.com/assets/colab-badge.svg\" alt=\"Open In Colab\"/></a>"
      ]
    },
    {
      "cell_type": "code",
      "execution_count": null,
      "metadata": {
        "colab": {
          "base_uri": "https://localhost:8080/"
        },
        "id": "dGr8vG7Sk7xG",
        "outputId": "e204175d-46bf-4647-9ba3-d85529fdc53b"
      },
      "outputs": [
        {
          "output_type": "stream",
          "name": "stdout",
          "text": [
            "escriba un numero entero a dividir4\n",
            "escribe el numero entero que va dividir 2\n",
            "el resultado de la division es  2.0 el residuo de tu division es  0 si residuo cero tu divison es entera\n"
          ]
        }
      ],
      "source": [
        "#1\n",
        "from IPython.lib.display import YouTubeVideo\n",
        "x=int(input(\"escriba un numero entero a dividir\"))\n",
        "y=int(input(\"escribe el numero entero que va dividir \"))\n",
        "if y==0:\n",
        "  print(\"cero no es un numero valido\") ## si se divide en cero debe pedir un numero valido\n",
        "else:\n",
        "  z= x/y\n",
        "  c=x%y\n",
        "  print(\"el resultado de la division es \" ,z,\"el residuo de tu division es \" ,c , \"si residuo cero tu divison es entera\")\n",
        "\n"
      ]
    },
    {
      "cell_type": "code",
      "source": [
        "##2\n",
        "x=int(input(\"Escriba un primer numero para ver si es primo de otro\"))\n",
        "y=int(input(\"Ingrese un segundo numero para revisar si son primos\"))\n",
        "z=x%y\n",
        "if z==0:\n",
        "  print(\"Los numeros son primos\")\n",
        "else:\n",
        "  print(\"Los dos numeros no son primos y tiene residuo\", z )\n",
        "  "
      ],
      "metadata": {
        "colab": {
          "base_uri": "https://localhost:8080/"
        },
        "id": "clDbbJd2sJ3z",
        "outputId": "230049aa-7193-49de-a3e1-8381f60bd27b"
      },
      "execution_count": null,
      "outputs": [
        {
          "output_type": "stream",
          "name": "stdout",
          "text": [
            "Escriba un primer numero para ver si es primo de otro5\n",
            "Ingrese un segundo numero para revisar si son primos2\n",
            "Los dos numeros no son primos y tiene residuo 1\n"
          ]
        }
      ]
    },
    {
      "cell_type": "code",
      "source": [
        "##3organizar de menor a mayor\n",
        "x=int(input(\"Ingrese edad de la primera hermana\"))\n",
        "y=int(input(\"Ingrese edad de la segunda hermana\"))\n",
        "z=int(input(\"Ingrese edad de la tercera hermana\"))\n",
        "if x!= y!= z or z!= x!= y or y!= z!= x:\n",
        "  vector= [x,y,z]\n",
        "  vector.sort()\n",
        "  print(vector)\n",
        "else :\n",
        "  print(\"Las hermanas son trillizas\")\n",
        "\n"
      ],
      "metadata": {
        "colab": {
          "base_uri": "https://localhost:8080/"
        },
        "id": "vXVmdDyHtA16",
        "outputId": "37dfcdaa-e98e-4261-a32f-2ba81c40b813"
      },
      "execution_count": null,
      "outputs": [
        {
          "output_type": "stream",
          "name": "stdout",
          "text": [
            "ingrese edad de la primera hermana4\n",
            "Ingrese edad de la segunda hermana2\n",
            "Ingrese edad de la tercera hermana4\n",
            "[2, 4, 4]\n"
          ]
        }
      ]
    },
    {
      "cell_type": "code",
      "source": [
        "##4.\tDIAN le ha contratado para identificar si una persona debe pagar impuesto de renta o no. ¿Qué datos debería suministrar? Escriba un programa con su solución.\n",
        "print(\"VAMOS A REVISAR SI DEBES PAGAR RENTA\")\n",
        "name=str(input(\" Ingrese su numero de cedula \"))\n",
        "salario=int(input(\" Ingrese su salario mensual en pesos\"))\n",
        "if salario== 49850000:\n",
        "  print(\"DEBES PAGAR RENTA SUPERAS LOS $49.850.000 ANUALES DE INGRESOS\")\n",
        "else:\n",
        "  print(\"NO DEBES PAGAR RENTA. NO SUPERAS LOS $49.850.000 ANUALES DE INGRESOS\")"
      ],
      "metadata": {
        "colab": {
          "base_uri": "https://localhost:8080/"
        },
        "id": "_3nJjfoyyMlW",
        "outputId": "5f3b722c-b307-4c76-999a-a6b495834a6e"
      },
      "execution_count": null,
      "outputs": [
        {
          "output_type": "stream",
          "name": "stdout",
          "text": [
            "VAMOS A REVISAR SI DEBES PAGAR RENTA\n",
            " ingrese su numero de cedula 1.035.456.256\n",
            "ingrese su salario mensual en pesos10000\n",
            "NO DEBES PAGAR RENTA NO SUPERAS LOS $49.850.000 ANUALES DE INGRESOS\n"
          ]
        }
      ]
    },
    {
      "cell_type": "code",
      "source": [
        ""
      ],
      "metadata": {
        "id": "UBUwJKKwY5Ab"
      },
      "execution_count": null,
      "outputs": []
    },
    {
      "cell_type": "code",
      "source": [
        "##5CODIGO ESTUDIANTE(puntos numero d y e)\n",
        "codigo = (input(\" Ingrese su codigo de estudiante:\"))\n",
        "#arreglo de codigo\n",
        "cod=str(codigo.strip().lower())\n",
        "longitud = len(cod) #lectura de caracteres cadena de cod\n",
        "uis=(cod[0:4])\n",
        "codand=codigo.strip().upper()\n",
        "###############################################################################\n",
        "if cod.startswith(\"u\") and  longitud==9 : #revisar con que caracter inicia cadena\n",
        "  print(\"Eres estudiante UNAB\")\n",
        "  if cod.endswith(\"26\"):\n",
        "    print(\"Ingenieria de electronico\")\n",
        "  elif cod.endswith(\"32\"):\n",
        "    print(\"Ingenieria de sistemas\")\n",
        "  elif cod.endswith(\"50\"):\n",
        "    print(\"Ingenieria de administracion de empresas\")\n",
        "elif cod.startswith(\"a000\"):\n",
        "  print(\"Eres estudiante ANDES\")\n",
        "  if cod.endswith(\"12\"):\n",
        "    print(\"Economia\")\n",
        "  elif cod.endswith(\"15\"):\n",
        "    print(\"Mercado internacional\")\n",
        "elif  int(uis)>=1950:\n",
        "  print(\"Eres estudiante UIS\")\n",
        "  if cod.endswith(\"1\"):\n",
        "    print(\"Artes plasticas\")\n",
        "  elif cod.endswith(\"2\"):\n",
        "    print(\"Derecho\")\n",
        "  elif cod.endswith(\"3\"):\n",
        "    print(\"Fisica aplicada\")\n",
        "else :\n",
        "  print(\"Ingrese un codigo correcto\")\n",
        "\n"
      ],
      "metadata": {
        "colab": {
          "base_uri": "https://localhost:8080/"
        },
        "id": "ALkz1Vht86TD",
        "outputId": "fef5d308-b05b-48fd-af27-45064f716a3c"
      },
      "execution_count": 17,
      "outputs": [
        {
          "output_type": "stream",
          "name": "stdout",
          "text": [
            " Ingrese su codigo de estudiante:1952\n",
            "Eres estudiante UIS\n",
            "Derecho\n"
          ]
        }
      ]
    },
    {
      "cell_type": "code",
      "source": [
        "##6PROMEDIO DE NOTA\n",
        "x=float(input(\"ingrese su primera nota \"))\n",
        "y=float(input(\"ingrese su segunda nota \"))\n",
        "z=float(input(\"ingrese su tercera nota \"))\n",
        "w=float(input(\"ingrese su cuarta nota \"))\n",
        "\n",
        "notapar=float(x+y+z+w)\n",
        "nota=float(notapar/4)\n",
        "\n",
        "if nota>4.5:\n",
        "  print(\"Estas eximido del ultimo parcial\")\n",
        "elif 3.5<nota<4.5:\n",
        "  print(\"Debes presentar el examen\")\n",
        "elif 3<nota<3.5:\n",
        "  print(\"Debes presentar el parcial y un trabajo adicional\")\n",
        "elif 2<nota<3:\n",
        "  print(\"Debes habilitar la materia\")\n",
        "elif 0<=nota<2:\n",
        "  print(\"Debes repetir la materia\")\n",
        "elif nota<0 and nota>5:\n",
        "   print(\"Debes ingresar validos de nota\")\n",
        "\n"
      ],
      "metadata": {
        "colab": {
          "base_uri": "https://localhost:8080/"
        },
        "id": "6qc7kfDGlUTD",
        "outputId": "d58f91f3-08f4-4412-b258-9cf80fbebdd3"
      },
      "execution_count": 192,
      "outputs": [
        {
          "output_type": "stream",
          "name": "stdout",
          "text": [
            "ingrese su primera nota 4\n",
            "ingrese su segunda nota 4\n",
            "ingrese su tercera nota 4\n",
            "ingrese su cuarta nota 4\n",
            "Debes presentar el examen\n"
          ]
        }
      ]
    },
    {
      "cell_type": "code",
      "source": [
        "##7FECHA NACIEMIENTO\n",
        "x=int(input(\"Ingresa tu año de nacimiento\"))\n",
        "y=int(input(\"Ingresa el dia de tu cumpleaños\"))\n",
        "z=int(input(\"Ingresa el mes de tu cumpleaños\"))\n",
        "w=int(input(\"Ingresa el mes actual\"))\n",
        "g=int(input(\"Ingresa el dia actual\"))\n",
        "j=int(input(\"Ingresa el año actual\"))\n",
        "edad= int(j-x)\n",
        "año=365\n",
        "f1=(z*31)-7\n",
        "f2=((w*31)-g-7)\n",
        "faltan=int(año-f2)+f1-6\n",
        "\n",
        "print(\"Tienes\",edad,\"años\",faltan)"
      ],
      "metadata": {
        "colab": {
          "base_uri": "https://localhost:8080/"
        },
        "id": "0fG0dhBwtunJ",
        "outputId": "1ab81339-2e36-487b-a3a7-57317acec239"
      },
      "execution_count": 22,
      "outputs": [
        {
          "output_type": "stream",
          "name": "stdout",
          "text": [
            "Ingresa tu año de nacimiento1991\n",
            "Ingresa el dia de tu cumpleaños25\n",
            "Ingresa el mes de tu cumpleaños07\n",
            "Ingresa el mes actual08\n",
            "Ingresa el dia actual16\n",
            "Ingresa el año actual2022\n",
            "Tienes 31 años 344\n"
          ]
        }
      ]
    },
    {
      "cell_type": "code",
      "source": [
        "##8AÑO BISIESTO\n",
        "x=int(input(\"Ingrese el año actual para saber si es bisiesto\"))\n",
        "y=x%4\n",
        "z=x%100\n",
        "if y==0 and z!=0:\n",
        "  print(\"El año es bisiesto\")\n",
        "else :\n",
        "  print(\"El año no es bisiesto\")"
      ],
      "metadata": {
        "colab": {
          "base_uri": "https://localhost:8080/"
        },
        "id": "DZQmruiGEjy-",
        "outputId": "7b2a1851-e24c-4255-b47a-dd057d133b78"
      },
      "execution_count": 9,
      "outputs": [
        {
          "output_type": "stream",
          "name": "stdout",
          "text": [
            "Ingrese el año actual para saber si es bisiesto2020\n",
            "El año es bisiesto\n"
          ]
        }
      ]
    },
    {
      "cell_type": "code",
      "source": [
        "#9 RESOLVER ECUACION(ax+b=0)\n",
        "a=float(input(\"Ingrese el coeficiente de la variable x\"))\n",
        "b=float(input(\"Ingrese el coeficiente la variable independiente\"))\n",
        "x=(-b)/a\n",
        "print(\"X es igual a \",x)"
      ],
      "metadata": {
        "colab": {
          "base_uri": "https://localhost:8080/"
        },
        "id": "n4khCHy6G4eM",
        "outputId": "03d79661-f7ed-4b70-f03e-92c892d2201e"
      },
      "execution_count": 10,
      "outputs": [
        {
          "output_type": "stream",
          "name": "stdout",
          "text": [
            "Ingrese el coeficiente de la variable x4\n",
            "Ingrese el coeficiente la variable independiente2\n",
            "X es igual a  -0.5\n"
          ]
        }
      ]
    },
    {
      "cell_type": "code",
      "source": [
        "#10 PENDIENTE(ax+bY=C)\n",
        "a=float(input(\"Ingrese el coeficiente de la variable x\"))\n",
        "b=float(input(\"Ingrese el coeficiente la variable y\"))\n",
        "c=float(input(\"Ingrese el coeficiente de la independiente\"))\n",
        "x=(-b)/a\n",
        "print(\"m es igual a \",x)"
      ],
      "metadata": {
        "colab": {
          "base_uri": "https://localhost:8080/"
        },
        "outputId": "03d79661-f7ed-4b70-f03e-92c892d2201e",
        "id": "YPooAI5t_1-G"
      },
      "execution_count": null,
      "outputs": [
        {
          "output_type": "stream",
          "name": "stdout",
          "text": [
            "Ingrese el coeficiente de la variable x4\n",
            "Ingrese el coeficiente la variable independiente2\n",
            "X es igual a  -0.5\n"
          ]
        }
      ]
    },
    {
      "cell_type": "code",
      "source": [
        "#11 RESOLVER ECUACION(ax^2+bx+c=0)\n",
        "import math\n",
        "a=int(input(\"Ingrese el coeficiente de la variable x^2\" ))\n",
        "b=int(input(\"Ingrese el coeficiente la variable x\" ))\n",
        "c=int(input(\"Ingrese el coeficiente de la variable independiente\" ))\n",
        "enraiz=(b*b)-(4*a*c)\n",
        "raiz =math.sqrt(enraiz)\n",
        "x=float(-b+raiz/(2*a))\n",
        "x1=float(-b-raiz/(2*a))\n",
        "print(\"X es igual a \",x, \" y \" , x1)\n",
        "\n"
      ],
      "metadata": {
        "colab": {
          "base_uri": "https://localhost:8080/"
        },
        "outputId": "b729ec3b-a3e9-4f44-dfcc-c3eb4aef8c2f",
        "id": "Ph8RnFj0Ii9U"
      },
      "execution_count": 2,
      "outputs": [
        {
          "output_type": "stream",
          "name": "stdout",
          "text": [
            "Ingrese el coeficiente de la variable x^21\n",
            "Ingrese el coeficiente la variable x9\n",
            "Ingrese el coeficiente de la variable independiente1\n",
            "X es igual a  -4.612517806303939 -13.387482193696062\n"
          ]
        }
      ]
    },
    {
      "cell_type": "code",
      "source": [
        "#12 suma, resta,multiplicacion, division\n",
        "import random \n",
        "print(\"Vamoms a probar tus calculos basico\")\n",
        "print(\"1. Si deseas intentar una suma\")\n",
        "print(\"2. Si deseas intentar una resta\")\n",
        "print(\"3. Si deseas intentar una multiplicacion\")\n",
        "print(\"4. Si deseas intentar una division\")\n",
        "opcion= int(input(\"Digite la opcion del menu\"))\n",
        "print(\" \")\n",
        "\n",
        "x=random.randint(0,100)\n",
        "y=random.randint(0,100)\n",
        "\n",
        "\n",
        "\n",
        "if opcion==1:\n",
        "  print(\"Has seleccionado la suma \",x,\"+\",y )\n",
        "  z=x+y\n",
        "  resultado=int(input(\"Ingrese el resultado de la anterior suma\"))\n",
        "  if resultado==z:\n",
        "    print(\"Tu respuesta es correcta \")\n",
        "  else:\n",
        "    print(\"Tu respuesta es incorrecta , intentalo de nuevo\")\n",
        "elif opcion==2:\n",
        "  print(\"Has seleccionado la resta \",x,\"-\",y)\n",
        "  z=x-y\n",
        "  resultado=int(input(\"Ingrese el resultado de la anterior resta\"))\n",
        "  if resultado==z:\n",
        "    print(\"Tu respuesta es correcta\")\n",
        "  else:\n",
        "    print(\"Tu respuesta es incorrecta , intentalo de nuevo\")\n",
        "elif opcion==3:\n",
        "  print(\"Has seleccionado la multiplicacion \",x,\"*\",y)\n",
        "  z=x*y\n",
        "  resultado=int(input(\"Ingrese el resultado de la anterior multiplicacion\"))\n",
        "  if resultado==z:\n",
        "      print(\"Tu respuesta es correcta\")\n",
        "  else:\n",
        "      print(\"Tu respuesta es incorrecta\")\n",
        "elif opcion==4:\n",
        "  print(\"Has seleccionado la division \",x,\"/\",y)\n",
        "  z=x/y\n",
        "  resultado=float(input(\"Ingresa el resultado de la division anterior\"))\n",
        "  if resultado==z:\n",
        "    print(\"Tu respuesta es correcta\")\n",
        "  else:\n",
        "    print(\"Tu respuesta es incorracta , intenta de nuevo\")"
      ],
      "metadata": {
        "colab": {
          "base_uri": "https://localhost:8080/"
        },
        "id": "-8FEypKiOPA5",
        "outputId": "583a6056-e69b-4baf-d52f-4bc88cfe8613"
      },
      "execution_count": 23,
      "outputs": [
        {
          "output_type": "stream",
          "name": "stdout",
          "text": [
            "Vamoms a probar tus calculos basico\n",
            "1. Si deseas intentar una suma\n",
            "2. Si deseas intentar una resta\n",
            "3. Si deseas intentar una multiplicacion\n",
            "4. Si deseas intentar una division\n",
            "Digite la opcion del menu4\n",
            " \n",
            "Has seleccionado la division  29 / 13\n",
            "Ingresa el resultado de la division anterior2.23\n",
            "Tu respuesta es incorracta , intenta de nuevo\n"
          ]
        }
      ]
    },
    {
      "cell_type": "code",
      "source": [
        ""
      ],
      "metadata": {
        "id": "xQxhBs_MOUiO"
      },
      "execution_count": null,
      "outputs": []
    },
    {
      "cell_type": "code",
      "source": [
        "#13 convertir unidades\n",
        "print(\"Vamoms a convertir unidades\")\n",
        "print(\"1. De cm a m\")\n",
        "print(\"2. De cm a km\")\n",
        "print(\"3. De m a km\")\n",
        "print(\"4. De km a cm\")\n",
        "print(\"5. De km a m\")\n",
        "opcion= int(input(\"Digite la opcion del menu\"))\n",
        "print(\" \")\n",
        "\n",
        "if opcion==1:\n",
        "  print(\"Has seleccionado la opcion 1\" )\n",
        "  cm=float(input(\"Ingresa los cm a transformar a m\"))\n",
        "  resultado=cm/100\n",
        "  print(\"EL resultado es \",resultado,\"metros \" )\n",
        "elif opcion==2:\n",
        "  print(\"Has seleccionado la opcion 2\" )\n",
        "  cm=float(input(\"Ingresa los cm a transformar a km \"))\n",
        "  resultado=(cm/100000)\n",
        "  print(\"EL resultado es \",resultado,\"kilometros \")\n",
        "elif opcion==3:\n",
        "  print(\"Has seleccionado la opcion 3\" )\n",
        "  m=float(input(\"Ingresa los metros a transformar en kilometros \"))\n",
        "  resultado=(m/1000)\n",
        "  print(\"EL resultado es \",resultado,\"metros \")\n",
        "elif opcion==4:\n",
        "  print(\"Has seleccionado la opcion 4 \")\n",
        "  km=float(input(\"Ingresa los kilometros a transformar en centimetros\"))\n",
        "  resultado=(km*100000)\n",
        "elif opcion==5:\n",
        "  print(\"Has seleccionado la opcion 5\")\n",
        "  km=float(input(\"Ingresa los kilometros a transformar a metros\"))\n",
        "  resultado=(km*1000)\n",
        "else:\n",
        "    print(\"Selecciona una opcion valida , intenta de nuevo \")"
      ],
      "metadata": {
        "colab": {
          "base_uri": "https://localhost:8080/"
        },
        "outputId": "1444115f-e14d-48a8-c06e-ba8d5f086566",
        "id": "qHOPO8MSOVyT"
      },
      "execution_count": 35,
      "outputs": [
        {
          "output_type": "stream",
          "name": "stdout",
          "text": [
            "Vamoms a convertir unidades\n",
            "1. De cm a m\n",
            "2. De cm a km\n",
            "3. De m a km\n",
            "4. De km a cm\n",
            "5. De km a m\n",
            "Digite la opcion del menu2\n",
            " \n",
            "Has seleccionado la opcion 2\n",
            "Ingresa los cm a transformar a km 10\n",
            "EL resultado es  0.0001 kilometros \n"
          ]
        }
      ]
    },
    {
      "cell_type": "code",
      "source": [
        "#14 identificar vocal o consonante\n",
        "print(\"VAMOS A IDENTIFCAR LA LETRA\")\n",
        "x=(input(\"Ingresa la letra a analizar en minuscula \"))\n",
        "\n",
        "if len(x)!=1 or x.isdigit():\n",
        "  print(\"El dato ingresado no es valido, intente de nuevo\")\n",
        "elif len(x)==1 and x.isalpha():\n",
        "  if x==str(\"a\") or x==str(\"e\") or x==(\"i\") or x==(\"o\") or x==(\"u\"):\n",
        "    print(\"Tu letra es una vocal\")\n",
        "  else:\n",
        "    print(\"Tu letra es una consonante\")\n"
      ],
      "metadata": {
        "colab": {
          "base_uri": "https://localhost:8080/"
        },
        "id": "tsrOwODzSJUv",
        "outputId": "ff710ee6-9972-4e8d-975d-50e8245c329b"
      },
      "execution_count": 62,
      "outputs": [
        {
          "output_type": "stream",
          "name": "stdout",
          "text": [
            "VAMOS A IDENTIFCAR LA LETRA\n",
            "Ingresa la letra a analizar en minuscula 4\n",
            "El dato ingresado no es valido\n"
          ]
        }
      ]
    },
    {
      "cell_type": "code",
      "source": [
        "#15VALOR ABSOLUTO\n",
        "\n",
        "x=int(input(\"Ingrese el numero que desea obtener el valor absoluto\"))\n",
        "print(\"El valor absoluto es: \" ,abs(x))\n",
        "\n"
      ],
      "metadata": {
        "colab": {
          "base_uri": "https://localhost:8080/"
        },
        "id": "A5iwLClaT4qc",
        "outputId": "3a8e6436-3dab-47b0-e75a-c81fe1cdbd60"
      },
      "execution_count": 63,
      "outputs": [
        {
          "output_type": "stream",
          "name": "stdout",
          "text": [
            "Ingrese el numero que desea obtener el valor absoluto-4\n",
            "4\n"
          ]
        }
      ]
    },
    {
      "cell_type": "code",
      "source": [
        "#16 SIMULITUD\n",
        "user1=input(\"Ingrese el primer nombre a comparar \")\n",
        "user2=input(\"Ingrese el segundo nombre a comparar \")\n",
        "if user1[0] == user2[0]:\n",
        "  print(\"Existe coincidencia\")\n",
        "else:\n",
        "  print(\"No tienen coincidencia\")"
      ],
      "metadata": {
        "colab": {
          "base_uri": "https://localhost:8080/"
        },
        "id": "OJtUz2oqpsoM",
        "outputId": "f7c48c20-b643-4b13-f182-b201db1da889"
      },
      "execution_count": 83,
      "outputs": [
        {
          "output_type": "stream",
          "name": "stdout",
          "text": [
            "Ingrese el primer nombre a comparardiego\n",
            "Ingrese el segundo nombre a comparardios\n",
            "Existe coincidencia\n"
          ]
        }
      ]
    },
    {
      "cell_type": "code",
      "source": [
        "#17CANDIDATO\n",
        "\n",
        "print(\"VAMOS A VOTAR POR TU CANDIDATO\")\n",
        "print(\"Si tu voto es por ALFA ingresa A\")\n",
        "print(\"Si tu voto es por BETA ingresa B\")\n",
        "print(\"Si tu voto es por GAMMA ingresa c\")\n",
        "x=input(\"Ingresa la letra segun tu candidato\")\n",
        "if x==str(\"a\") or x==str(\"A\") :\n",
        "  print(\"Tu voto a sido por alfa \")\n",
        "elif x==str(\"b\") or x==str(\"B\"):\n",
        "  print(\"Tu voto a sido por beta \")\n",
        "elif x==str(\"c\") or x==str(\"C\"):\n",
        "  print(\"Tu voto a sido por gamma \")"
      ],
      "metadata": {
        "colab": {
          "base_uri": "https://localhost:8080/"
        },
        "id": "tZRdSRdQwnKo",
        "outputId": "7c42dd95-d932-41db-ad2c-e23dc1976af2"
      },
      "execution_count": 71,
      "outputs": [
        {
          "output_type": "stream",
          "name": "stdout",
          "text": [
            "VAMOS A VOTAR POR TU CANDIDATO\n",
            "Si tu voto es por ALFA ingresa A\n",
            "Si tu voto es por BETA ingresa B\n",
            "Si tu voto es por GAMMA ingresa c\n",
            "Ingresa la letra segun tu candidatoC\n",
            "Tu voto a sido por gamma\n"
          ]
        }
      ]
    },
    {
      "cell_type": "code",
      "source": [
        "#18ESCRIBIR UN PROGRAMA QUE SEPARE NUMERO\n",
        "numero = int (input ('Ingresa el valor de numero: '))\n",
        "centenas=int(numero%1000-numero%100)//100\n",
        "decenas=int(numero%100-numero%10)//10\n",
        "unidades=int (numero%10)\n",
        "print ('Valor de centenas: ' ,centenas)\n",
        "print ('Valor de decenas: ' ,decenas)\n",
        "print ('Valor de unidades: ' ,unidades)\n",
        "print ()"
      ],
      "metadata": {
        "colab": {
          "base_uri": "https://localhost:8080/"
        },
        "id": "FZpssXSPyB_J",
        "outputId": "c9450a20-3ba2-4603-8873-77bd59044387"
      },
      "execution_count": 75,
      "outputs": [
        {
          "output_type": "stream",
          "name": "stdout",
          "text": [
            "Ingresa el valor de numero: 250\n",
            "Valor de centenas:  2\n",
            "Valor de decenas:  5\n",
            "Valor de unidades:  0\n",
            "\n"
          ]
        }
      ]
    },
    {
      "cell_type": "code",
      "source": [
        "#19PALINDROMO\n",
        "\n",
        "x=input((\"Ingresa la palabra:\"))\n",
        "if(x==x[::-1]):#truco para mirar el arreglo al reves con paso -1\n",
        "      print(\"Es palindromo\")\n",
        "else:\n",
        "      print(\"No es palindromo\")"
      ],
      "metadata": {
        "colab": {
          "base_uri": "https://localhost:8080/"
        },
        "id": "ycef2DfvzMLn",
        "outputId": "13da3e43-7196-4f59-b032-33f3a3b99b80"
      },
      "execution_count": 80,
      "outputs": [
        {
          "output_type": "stream",
          "name": "stdout",
          "text": [
            "Ingresa la palabra:dod\n",
            "The string is a palindrome\n"
          ]
        }
      ]
    },
    {
      "cell_type": "code",
      "source": [
        ""
      ],
      "metadata": {
        "id": "kmMd_ZDj1JE7"
      },
      "execution_count": null,
      "outputs": []
    }
  ]
}