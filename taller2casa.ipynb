{
  "nbformat": 4,
  "nbformat_minor": 0,
  "metadata": {
    "colab": {
      "name": "Untitled2.ipynb",
      "provenance": [],
      "authorship_tag": "ABX9TyPN2Mtp65Ga9G3hEJrpreC6",
      "include_colab_link": true
    },
    "kernelspec": {
      "name": "python3",
      "display_name": "Python 3"
    },
    "language_info": {
      "name": "python"
    }
  },
  "cells": [
    {
      "cell_type": "markdown",
      "metadata": {
        "id": "view-in-github",
        "colab_type": "text"
      },
      "source": [
        "<a href=\"https://colab.research.google.com/github/dfran25/PROGCOM/blob/main/taller2casa.ipynb\" target=\"_parent\"><img src=\"https://colab.research.google.com/assets/colab-badge.svg\" alt=\"Open In Colab\"/></a>"
      ]
    },
    {
      "cell_type": "markdown",
      "source": [
        "#TALLER 2 CICLOS"
      ],
      "metadata": {
        "id": "VyXBRhOrlySK"
      }
    },
    {
      "cell_type": "code",
      "source": [
        "#NUMERO PRIMO\n",
        "n=int(input(\"Ingrese el numero a mirar si es primo \"))\n",
        "if n>1:\n",
        "  p=1\n",
        "  for i in range(1,n):\n",
        "    p=p+1\n",
        "    if n%2==0 and p==n:\n",
        "      print(\"NO ES PRIMO\")\n",
        "    elif n%2!=0 and p==n:\n",
        "     print(\"Numero es primo\")\n",
        "else:\n",
        "  print(\"ingrese dato valido\")\n"
      ],
      "metadata": {
        "colab": {
          "base_uri": "https://localhost:8080/"
        },
        "id": "X3tRLHD87qgs",
        "outputId": "1fdd25e6-b539-451b-dfa6-38786036bb4f"
      },
      "execution_count": 62,
      "outputs": [
        {
          "output_type": "stream",
          "name": "stdout",
          "text": [
            "Ingrese el numero a mirar si es primo 16\n",
            "NO ES PRIMO\n"
          ]
        }
      ]
    },
    {
      "cell_type": "code",
      "source": [
        "#NUMERO PRIMO (WHILE)\n",
        "n=int(input(\"Ingrese el numero a mirar si es primo \"))\n",
        "if n>1:\n",
        "    p=1\n",
        "    while p<2:\n",
        "      p=p+1  \n",
        "      if  n%2==0:  \n",
        "        print(\"NO ES PRIMO\")\n",
        "      else:  \n",
        "        print(\"Numero es primo\")\n",
        "else:\n",
        "  print(\"ingrese dato valido\")\n"
      ],
      "metadata": {
        "colab": {
          "base_uri": "https://localhost:8080/"
        },
        "outputId": "0a732bb5-7fdf-4f49-baae-6d77dd56b789",
        "id": "clIIoDUSBf2z"
      },
      "execution_count": 71,
      "outputs": [
        {
          "output_type": "stream",
          "name": "stdout",
          "text": [
            "Ingrese el numero a mirar si es primo 0\n",
            "ingrese dato valido\n"
          ]
        }
      ]
    },
    {
      "cell_type": "code",
      "source": [
        "#SERIE FIBONACHI\n",
        "n=int(input(\"Ingrese la cantidad de numeros de la serie fibonachi a imprimir\"))\n",
        "\n",
        "x=0\n",
        "y=1\n",
        "z=0\n",
        "print(\"1\",end=\" \")\n",
        "for i in range (0,n):\n",
        "  z=x+y\n",
        "  print(f\"{z}\", end=\" \")\n",
        "  x=y\n",
        "  y=z\n"
      ],
      "metadata": {
        "colab": {
          "base_uri": "https://localhost:8080/"
        },
        "id": "cgp-chsBHL9P",
        "outputId": "966db57f-5b9f-411a-f36e-fbda6c52b34a"
      },
      "execution_count": 77,
      "outputs": [
        {
          "output_type": "stream",
          "name": "stdout",
          "text": [
            "Ingrese la cantidad de numeros de la serie fibonachi a imprimir20\n",
            "1 1 2 3 5 8 13 21 34 55 89 144 233 377 610 987 1597 2584 4181 6765 10946 "
          ]
        }
      ]
    },
    {
      "cell_type": "code",
      "source": [
        "#SERIE FIBONACHI(while)\n",
        "p=1\n",
        "x=0\n",
        "y=1\n",
        "z=0\n",
        "print(\"1\",end=\" \")\n",
        "while p<21:\n",
        "  p=p+1\n",
        "  z=x+y\n",
        "  print(f\"{z}\", end=\" \")\n",
        "  x=y\n",
        "  y=z\n"
      ],
      "metadata": {
        "colab": {
          "base_uri": "https://localhost:8080/"
        },
        "outputId": "63356007-5749-468f-867d-a31a98e46409",
        "id": "kcBkPpd2KTnn"
      },
      "execution_count": 79,
      "outputs": [
        {
          "output_type": "stream",
          "name": "stdout",
          "text": [
            "1 1 2 3 5 8 13 21 34 55 89 144 233 377 610 987 1597 2584 4181 6765 10946 "
          ]
        }
      ]
    },
    {
      "cell_type": "code",
      "source": [
        "#Factorial (while)\n",
        "x=int(input(\"Ingrese el numero igual o mayor , al que desea ver el factorial\"))\n",
        "factorial= 1\n",
        "p=1\n",
        "if x>=1:\n",
        "  while p<x:\n",
        "    p=p+1\n",
        "    factorial = factorial*p\n",
        "  print(f\"El factorial es : {factorial}\" )"
      ],
      "metadata": {
        "colab": {
          "base_uri": "https://localhost:8080/"
        },
        "id": "fufvgDO1LDXH",
        "outputId": "9b7ac3ba-2063-478b-f8f5-8325e09b75cc"
      },
      "execution_count": 82,
      "outputs": [
        {
          "output_type": "stream",
          "name": "stdout",
          "text": [
            "Ingrese el numero igual o mayor , al que desea ver el factorial5\n",
            "El factorial es : 120\n"
          ]
        }
      ]
    },
    {
      "cell_type": "code",
      "source": [
        "#calcular factorial\n",
        "x=int(input(\"Ingrese el numero igual o mayor a 0, al que desea saber el factorial \"))\n",
        "factorial = 1\n",
        "\n",
        "if x==0 or x>=1:\n",
        "  for i in range(1,x+1):\n",
        "    factorial = factorial * i\n",
        "  print(\"El factorial de : \",factorial)\n",
        "else:\n",
        "  print(\"Ingrese un valor correcto\")"
      ],
      "metadata": {
        "colab": {
          "base_uri": "https://localhost:8080/"
        },
        "id": "wJnZIcWUqQXO",
        "outputId": "28e87b0a-869f-490e-edfd-b4e876391d58"
      },
      "execution_count": 83,
      "outputs": [
        {
          "output_type": "stream",
          "name": "stdout",
          "text": [
            "Ingrese el numero igual o mayor a 0, al que desea saber el factorial 5\n",
            "El factorial de :  120\n"
          ]
        }
      ]
    },
    {
      "cell_type": "code",
      "source": [
        "#calcular factorial a 10 numeros\n",
        "for i in range(0,10):\n",
        "  x=int(input(\"Ingrese el valor a calcular factorial\"))\n",
        "  factorial =1 \n",
        "  if x>=1:\n",
        "    for j in range(1,x+1):\n",
        "      factorial= factorial*j\n",
        "    print(f\"El factorial de {x} es {factorial}\")\n",
        "  else:\n",
        "    print(\"Ingrese un valor valido\")\n",
        "print(\"FIN PROGRAMA\")\n",
        "  "
      ],
      "metadata": {
        "colab": {
          "base_uri": "https://localhost:8080/"
        },
        "id": "lOFv8id8M54e",
        "outputId": "d869ed41-36d6-4d3b-cb33-a46d6691c0ea"
      },
      "execution_count": 89,
      "outputs": [
        {
          "output_type": "stream",
          "name": "stdout",
          "text": [
            "Ingrese el valor a calcular factorial1\n",
            "Ingrese un valor valido\n",
            "Ingrese el valor a calcular factorial1\n",
            "Ingrese un valor valido\n",
            "Ingrese el valor a calcular factorial2\n",
            "El factorial de 2 es 2\n",
            "Ingrese el valor a calcular factorial3\n",
            "El factorial de 3 es 6\n",
            "Ingrese el valor a calcular factorial3\n",
            "El factorial de 3 es 6\n",
            "Ingrese el valor a calcular factorial3\n",
            "El factorial de 3 es 6\n",
            "Ingrese el valor a calcular factorial3\n",
            "El factorial de 3 es 6\n",
            "Ingrese el valor a calcular factorial3\n",
            "El factorial de 3 es 6\n",
            "Ingrese el valor a calcular factorial3\n",
            "El factorial de 3 es 6\n",
            "Ingrese el valor a calcular factorial3\n",
            "El factorial de 3 es 6\n",
            "FIN PROGRAMA\n"
          ]
        }
      ]
    },
    {
      "cell_type": "code",
      "source": [
        "#calcular factorial a 10 numeros\n",
        "for i in range(0,10):\n",
        "  x=int(input(\"Ingrese el numero igual o mayor , al que desea ver el factorial\"))\n",
        "  factorial= 1\n",
        "  p=1\n",
        "  if x>=1:\n",
        "    \n",
        "    while p<x:\n",
        "       p=p+1\n",
        "       factorial = factorial*p\n",
        "    print(f\"El factorial es : {factorial}\" )\n",
        "print(\"FIN PROGRAMA\")\n",
        "  "
      ],
      "metadata": {
        "colab": {
          "base_uri": "https://localhost:8080/"
        },
        "outputId": "7e62a152-0792-4487-fa8b-20fa2b42680b",
        "id": "hffsjA4LO3C-"
      },
      "execution_count": 90,
      "outputs": [
        {
          "output_type": "stream",
          "name": "stdout",
          "text": [
            "Ingrese el numero igual o mayor , al que desea ver el factorial1\n",
            "El factorial es : 1\n",
            "Ingrese el numero igual o mayor , al que desea ver el factorial1\n",
            "El factorial es : 1\n",
            "Ingrese el numero igual o mayor , al que desea ver el factorial2\n",
            "El factorial es : 2\n",
            "Ingrese el numero igual o mayor , al que desea ver el factorial5\n",
            "El factorial es : 120\n",
            "Ingrese el numero igual o mayor , al que desea ver el factorial4\n",
            "El factorial es : 24\n",
            "Ingrese el numero igual o mayor , al que desea ver el factorial5\n",
            "El factorial es : 120\n",
            "Ingrese el numero igual o mayor , al que desea ver el factorial1\n",
            "El factorial es : 1\n",
            "Ingrese el numero igual o mayor , al que desea ver el factorial4\n",
            "El factorial es : 24\n",
            "Ingrese el numero igual o mayor , al que desea ver el factorial5\n",
            "El factorial es : 120\n",
            "Ingrese el numero igual o mayor , al que desea ver el factorial5\n",
            "El factorial es : 120\n",
            "FIN PROGRAMA\n"
          ]
        }
      ]
    },
    {
      "cell_type": "code",
      "source": [
        "#numero mayor\n",
        "y=0\n",
        "for i in range (0,20):\n",
        "  x=int(input(\"Ingrese el numero a comparar\"))\n",
        "  if x>y:\n",
        "    print(f\"El numero mayor es {x}\")\n",
        "    y=x\n",
        "  else:\n",
        "    print(f\"El numero mayor es {y}\")\n"
      ],
      "metadata": {
        "colab": {
          "base_uri": "https://localhost:8080/",
          "height": 762
        },
        "id": "idVc_oxzQWeP",
        "outputId": "3674146e-9c2c-47d5-da6a-1b33b219fb90"
      },
      "execution_count": 91,
      "outputs": [
        {
          "output_type": "stream",
          "name": "stdout",
          "text": [
            "Ingrese el numero a comparar4\n",
            "El numero mayor es 4\n",
            "Ingrese el numero a comparar5\n",
            "El numero mayor es 5\n",
            "Ingrese el numero a comparar1\n",
            "El numero mayor es 5\n",
            "Ingrese el numero a comparar2\n",
            "El numero mayor es 5\n",
            "Ingrese el numero a comparar8\n",
            "El numero mayor es 8\n",
            "Ingrese el numero a comparar7\n",
            "El numero mayor es 8\n",
            "Ingrese el numero a comparar9\n",
            "El numero mayor es 9\n",
            "Ingrese el numero a comparar45555\n",
            "El numero mayor es 45555\n",
            "Ingrese el numero a comparar1\n",
            "El numero mayor es 45555\n",
            "Ingrese el numero a comparar2222\n",
            "El numero mayor es 45555\n",
            "Ingrese el numero a comparar99999999999\n",
            "El numero mayor es 99999999999\n"
          ]
        },
        {
          "output_type": "error",
          "ename": "KeyboardInterrupt",
          "evalue": "ignored",
          "traceback": [
            "\u001b[0;31m---------------------------------------------------------------------------\u001b[0m",
            "\u001b[0;31mKeyboardInterrupt\u001b[0m                         Traceback (most recent call last)",
            "\u001b[0;32m<ipython-input-91-02df8253d68b>\u001b[0m in \u001b[0;36m<module>\u001b[0;34m\u001b[0m\n\u001b[1;32m      1\u001b[0m \u001b[0my\u001b[0m\u001b[0;34m=\u001b[0m\u001b[0;36m0\u001b[0m\u001b[0;34m\u001b[0m\u001b[0;34m\u001b[0m\u001b[0m\n\u001b[1;32m      2\u001b[0m \u001b[0;32mfor\u001b[0m \u001b[0mi\u001b[0m \u001b[0;32min\u001b[0m \u001b[0mrange\u001b[0m \u001b[0;34m(\u001b[0m\u001b[0;36m0\u001b[0m\u001b[0;34m,\u001b[0m\u001b[0;36m20\u001b[0m\u001b[0;34m)\u001b[0m\u001b[0;34m:\u001b[0m\u001b[0;34m\u001b[0m\u001b[0;34m\u001b[0m\u001b[0m\n\u001b[0;32m----> 3\u001b[0;31m   \u001b[0mx\u001b[0m\u001b[0;34m=\u001b[0m\u001b[0mint\u001b[0m\u001b[0;34m(\u001b[0m\u001b[0minput\u001b[0m\u001b[0;34m(\u001b[0m\u001b[0;34m\"Ingrese el numero a comparar\"\u001b[0m\u001b[0;34m)\u001b[0m\u001b[0;34m)\u001b[0m\u001b[0;34m\u001b[0m\u001b[0;34m\u001b[0m\u001b[0m\n\u001b[0m\u001b[1;32m      4\u001b[0m   \u001b[0;32mif\u001b[0m \u001b[0mx\u001b[0m\u001b[0;34m>\u001b[0m\u001b[0my\u001b[0m\u001b[0;34m:\u001b[0m\u001b[0;34m\u001b[0m\u001b[0;34m\u001b[0m\u001b[0m\n\u001b[1;32m      5\u001b[0m     \u001b[0mprint\u001b[0m\u001b[0;34m(\u001b[0m\u001b[0;34mf\"El numero mayor es {x}\"\u001b[0m\u001b[0;34m)\u001b[0m\u001b[0;34m\u001b[0m\u001b[0;34m\u001b[0m\u001b[0m\n",
            "\u001b[0;32m/usr/local/lib/python3.7/dist-packages/ipykernel/kernelbase.py\u001b[0m in \u001b[0;36mraw_input\u001b[0;34m(self, prompt)\u001b[0m\n\u001b[1;32m    861\u001b[0m             \u001b[0mself\u001b[0m\u001b[0;34m.\u001b[0m\u001b[0m_parent_ident\u001b[0m\u001b[0;34m,\u001b[0m\u001b[0;34m\u001b[0m\u001b[0;34m\u001b[0m\u001b[0m\n\u001b[1;32m    862\u001b[0m             \u001b[0mself\u001b[0m\u001b[0;34m.\u001b[0m\u001b[0m_parent_header\u001b[0m\u001b[0;34m,\u001b[0m\u001b[0;34m\u001b[0m\u001b[0;34m\u001b[0m\u001b[0m\n\u001b[0;32m--> 863\u001b[0;31m             \u001b[0mpassword\u001b[0m\u001b[0;34m=\u001b[0m\u001b[0;32mFalse\u001b[0m\u001b[0;34m,\u001b[0m\u001b[0;34m\u001b[0m\u001b[0;34m\u001b[0m\u001b[0m\n\u001b[0m\u001b[1;32m    864\u001b[0m         )\n\u001b[1;32m    865\u001b[0m \u001b[0;34m\u001b[0m\u001b[0m\n",
            "\u001b[0;32m/usr/local/lib/python3.7/dist-packages/ipykernel/kernelbase.py\u001b[0m in \u001b[0;36m_input_request\u001b[0;34m(self, prompt, ident, parent, password)\u001b[0m\n\u001b[1;32m    902\u001b[0m             \u001b[0;32mexcept\u001b[0m \u001b[0mKeyboardInterrupt\u001b[0m\u001b[0;34m:\u001b[0m\u001b[0;34m\u001b[0m\u001b[0;34m\u001b[0m\u001b[0m\n\u001b[1;32m    903\u001b[0m                 \u001b[0;31m# re-raise KeyboardInterrupt, to truncate traceback\u001b[0m\u001b[0;34m\u001b[0m\u001b[0;34m\u001b[0m\u001b[0;34m\u001b[0m\u001b[0m\n\u001b[0;32m--> 904\u001b[0;31m                 \u001b[0;32mraise\u001b[0m \u001b[0mKeyboardInterrupt\u001b[0m\u001b[0;34m(\u001b[0m\u001b[0;34m\"Interrupted by user\"\u001b[0m\u001b[0;34m)\u001b[0m \u001b[0;32mfrom\u001b[0m \u001b[0;32mNone\u001b[0m\u001b[0;34m\u001b[0m\u001b[0;34m\u001b[0m\u001b[0m\n\u001b[0m\u001b[1;32m    905\u001b[0m             \u001b[0;32mexcept\u001b[0m \u001b[0mException\u001b[0m \u001b[0;32mas\u001b[0m \u001b[0me\u001b[0m\u001b[0;34m:\u001b[0m\u001b[0;34m\u001b[0m\u001b[0;34m\u001b[0m\u001b[0m\n\u001b[1;32m    906\u001b[0m                 \u001b[0mself\u001b[0m\u001b[0;34m.\u001b[0m\u001b[0mlog\u001b[0m\u001b[0;34m.\u001b[0m\u001b[0mwarning\u001b[0m\u001b[0;34m(\u001b[0m\u001b[0;34m\"Invalid Message:\"\u001b[0m\u001b[0;34m,\u001b[0m \u001b[0mexc_info\u001b[0m\u001b[0;34m=\u001b[0m\u001b[0;32mTrue\u001b[0m\u001b[0;34m)\u001b[0m\u001b[0;34m\u001b[0m\u001b[0;34m\u001b[0m\u001b[0m\n",
            "\u001b[0;31mKeyboardInterrupt\u001b[0m: Interrupted by user"
          ]
        }
      ]
    },
    {
      "cell_type": "code",
      "source": [
        "#numero mayor\n",
        "y=-999999999999999999999999999999999999999999999\n",
        "i=1\n",
        "\n",
        "while i<21:\n",
        "  i=i+1\n",
        "  x=int(input(\"Ingrese el numero a comparar\"))\n",
        "  if x>y:\n",
        "    print(f\"El numero mayor es {x}\")\n",
        "    y=x\n",
        "  else:\n",
        "    print(f\"El numero mayor es {y}\")\n",
        "    "
      ],
      "metadata": {
        "colab": {
          "base_uri": "https://localhost:8080/",
          "height": 380
        },
        "outputId": "2f8d2b96-d68f-4ed9-c776-12aa1457e2cc",
        "id": "b3ywZrr-S7Fy"
      },
      "execution_count": 95,
      "outputs": [
        {
          "output_type": "error",
          "ename": "KeyboardInterrupt",
          "evalue": "ignored",
          "traceback": [
            "\u001b[0;31m---------------------------------------------------------------------------\u001b[0m",
            "\u001b[0;31mKeyboardInterrupt\u001b[0m                         Traceback (most recent call last)",
            "\u001b[0;32m<ipython-input-95-18a9c6b42027>\u001b[0m in \u001b[0;36m<module>\u001b[0;34m\u001b[0m\n\u001b[1;32m      5\u001b[0m \u001b[0;32mwhile\u001b[0m \u001b[0mi\u001b[0m\u001b[0;34m<\u001b[0m\u001b[0;36m21\u001b[0m\u001b[0;34m:\u001b[0m\u001b[0;34m\u001b[0m\u001b[0;34m\u001b[0m\u001b[0m\n\u001b[1;32m      6\u001b[0m   \u001b[0mi\u001b[0m\u001b[0;34m=\u001b[0m\u001b[0mi\u001b[0m\u001b[0;34m+\u001b[0m\u001b[0;36m1\u001b[0m\u001b[0;34m\u001b[0m\u001b[0;34m\u001b[0m\u001b[0m\n\u001b[0;32m----> 7\u001b[0;31m   \u001b[0mx\u001b[0m\u001b[0;34m=\u001b[0m\u001b[0mint\u001b[0m\u001b[0;34m(\u001b[0m\u001b[0minput\u001b[0m\u001b[0;34m(\u001b[0m\u001b[0;34m\"Ingrese el numero a comparar\"\u001b[0m\u001b[0;34m)\u001b[0m\u001b[0;34m)\u001b[0m\u001b[0;34m\u001b[0m\u001b[0;34m\u001b[0m\u001b[0m\n\u001b[0m\u001b[1;32m      8\u001b[0m   \u001b[0;32mif\u001b[0m \u001b[0mx\u001b[0m\u001b[0;34m>\u001b[0m\u001b[0my\u001b[0m\u001b[0;34m:\u001b[0m\u001b[0;34m\u001b[0m\u001b[0;34m\u001b[0m\u001b[0m\n\u001b[1;32m      9\u001b[0m     \u001b[0mprint\u001b[0m\u001b[0;34m(\u001b[0m\u001b[0;34mf\"El numero mayor es {x}\"\u001b[0m\u001b[0;34m)\u001b[0m\u001b[0;34m\u001b[0m\u001b[0;34m\u001b[0m\u001b[0m\n",
            "\u001b[0;32m/usr/local/lib/python3.7/dist-packages/ipykernel/kernelbase.py\u001b[0m in \u001b[0;36mraw_input\u001b[0;34m(self, prompt)\u001b[0m\n\u001b[1;32m    861\u001b[0m             \u001b[0mself\u001b[0m\u001b[0;34m.\u001b[0m\u001b[0m_parent_ident\u001b[0m\u001b[0;34m,\u001b[0m\u001b[0;34m\u001b[0m\u001b[0;34m\u001b[0m\u001b[0m\n\u001b[1;32m    862\u001b[0m             \u001b[0mself\u001b[0m\u001b[0;34m.\u001b[0m\u001b[0m_parent_header\u001b[0m\u001b[0;34m,\u001b[0m\u001b[0;34m\u001b[0m\u001b[0;34m\u001b[0m\u001b[0m\n\u001b[0;32m--> 863\u001b[0;31m             \u001b[0mpassword\u001b[0m\u001b[0;34m=\u001b[0m\u001b[0;32mFalse\u001b[0m\u001b[0;34m,\u001b[0m\u001b[0;34m\u001b[0m\u001b[0;34m\u001b[0m\u001b[0m\n\u001b[0m\u001b[1;32m    864\u001b[0m         )\n\u001b[1;32m    865\u001b[0m \u001b[0;34m\u001b[0m\u001b[0m\n",
            "\u001b[0;32m/usr/local/lib/python3.7/dist-packages/ipykernel/kernelbase.py\u001b[0m in \u001b[0;36m_input_request\u001b[0;34m(self, prompt, ident, parent, password)\u001b[0m\n\u001b[1;32m    902\u001b[0m             \u001b[0;32mexcept\u001b[0m \u001b[0mKeyboardInterrupt\u001b[0m\u001b[0;34m:\u001b[0m\u001b[0;34m\u001b[0m\u001b[0;34m\u001b[0m\u001b[0m\n\u001b[1;32m    903\u001b[0m                 \u001b[0;31m# re-raise KeyboardInterrupt, to truncate traceback\u001b[0m\u001b[0;34m\u001b[0m\u001b[0;34m\u001b[0m\u001b[0;34m\u001b[0m\u001b[0m\n\u001b[0;32m--> 904\u001b[0;31m                 \u001b[0;32mraise\u001b[0m \u001b[0mKeyboardInterrupt\u001b[0m\u001b[0;34m(\u001b[0m\u001b[0;34m\"Interrupted by user\"\u001b[0m\u001b[0;34m)\u001b[0m \u001b[0;32mfrom\u001b[0m \u001b[0;32mNone\u001b[0m\u001b[0;34m\u001b[0m\u001b[0;34m\u001b[0m\u001b[0m\n\u001b[0m\u001b[1;32m    905\u001b[0m             \u001b[0;32mexcept\u001b[0m \u001b[0mException\u001b[0m \u001b[0;32mas\u001b[0m \u001b[0me\u001b[0m\u001b[0;34m:\u001b[0m\u001b[0;34m\u001b[0m\u001b[0;34m\u001b[0m\u001b[0m\n\u001b[1;32m    906\u001b[0m                 \u001b[0mself\u001b[0m\u001b[0;34m.\u001b[0m\u001b[0mlog\u001b[0m\u001b[0;34m.\u001b[0m\u001b[0mwarning\u001b[0m\u001b[0;34m(\u001b[0m\u001b[0;34m\"Invalid Message:\"\u001b[0m\u001b[0;34m,\u001b[0m \u001b[0mexc_info\u001b[0m\u001b[0;34m=\u001b[0m\u001b[0;32mTrue\u001b[0m\u001b[0;34m)\u001b[0m\u001b[0;34m\u001b[0m\u001b[0;34m\u001b[0m\u001b[0m\n",
            "\u001b[0;31mKeyboardInterrupt\u001b[0m: Interrupted by user"
          ]
        }
      ]
    },
    {
      "cell_type": "code",
      "source": [
        "x=int(input(\"-------INGRESE EL NUMERO AL QUE DESEA SABER LA TABLA DE MULTIPLICAR----------\"))\n",
        "\n",
        "for i in range(1,11):\n",
        "  y=x*i\n",
        "  print(f\"{x}*{i} = {y}\")"
      ],
      "metadata": {
        "colab": {
          "base_uri": "https://localhost:8080/"
        },
        "id": "98DIGrBkToSs",
        "outputId": "87a8bc95-b7f2-4603-9d3f-5511e89a1c27"
      },
      "execution_count": 99,
      "outputs": [
        {
          "output_type": "stream",
          "name": "stdout",
          "text": [
            "-------INGRESE EL NUMERO AL QUE DESEA SABER LA TABLA DE MULTIPLICAR----------1\n",
            "1*1 = 1\n",
            "1*2 = 2\n",
            "1*3 = 3\n",
            "1*4 = 4\n",
            "1*5 = 5\n",
            "1*6 = 6\n",
            "1*7 = 7\n",
            "1*8 = 8\n",
            "1*9 = 9\n",
            "1*10 = 10\n"
          ]
        }
      ]
    },
    {
      "cell_type": "code",
      "source": [
        "#sumar numero\n",
        "y=0\n",
        "x=0\n",
        "z=0\n",
        "for i in range(1,11):\n",
        "  x=y+10\n",
        "  y=x\n",
        "  z+=y+x\n",
        "print(f\"{z}\")"
      ],
      "metadata": {
        "colab": {
          "base_uri": "https://localhost:8080/"
        },
        "id": "KmGSmEilVFQS",
        "outputId": "55b4460b-1f15-493d-ca4a-483e120cc922"
      },
      "execution_count": 113,
      "outputs": [
        {
          "output_type": "stream",
          "name": "stdout",
          "text": [
            "1100\n"
          ]
        }
      ]
    },
    {
      "cell_type": "code",
      "source": [
        "#sumar numero(while)\n",
        "y=0\n",
        "x=0\n",
        "z=0\n",
        "i=1\n",
        "while i<11:\n",
        "  i=i+1\n",
        "  x=y+10\n",
        "  y=x\n",
        "  z+=y+x\n",
        "print(f\"{z}\")"
      ],
      "metadata": {
        "colab": {
          "base_uri": "https://localhost:8080/"
        },
        "outputId": "7feadd68-7074-4634-d073-442005f9c7fa",
        "id": "ZN4PZ0q4aXip"
      },
      "execution_count": 120,
      "outputs": [
        {
          "output_type": "stream",
          "name": "stdout",
          "text": [
            "1100\n"
          ]
        }
      ]
    },
    {
      "cell_type": "code",
      "source": [
        "#sumar serie\n",
        "n=int(input(\"Cuantos numeros quiere que tenga la serie\"))\n",
        "if n>0:\n",
        "  x=0\n",
        "  for i in range(1,n+1):\n",
        "    x += (1/i)\n",
        "  \n",
        "  print(f\"{x}, el resultado\")\n",
        "else:\n",
        "  print(\"INGRESE UN VALOR VALIDO\")"
      ],
      "metadata": {
        "colab": {
          "base_uri": "https://localhost:8080/"
        },
        "outputId": "1c4c49e6-c8c4-4349-8438-695c76904d37",
        "id": "GPwXrHCrhgEm"
      },
      "execution_count": 125,
      "outputs": [
        {
          "output_type": "stream",
          "name": "stdout",
          "text": [
            "Cuantos numeros quiere que tenga la serie5\n",
            "2.283333333333333, el resultado\n"
          ]
        }
      ]
    },
    {
      "cell_type": "code",
      "source": [
        "#SUMAR SERIE (WHILE)\n",
        "n=int(input(\"Cuantos numeros quiere que tenga la serie\"))\n",
        "if n>0:\n",
        "  x=0\n",
        "  i=0\n",
        "  while (i+1)<n :\n",
        "    i=i+1\n",
        "    x +=(1/i+1)\n",
        "  print(f\"{x}\")\n",
        "else:\n",
        "  print(\"Ingrese una variable valida\")"
      ],
      "metadata": {
        "colab": {
          "base_uri": "https://localhost:8080/"
        },
        "id": "1e1Oax3YlRvK",
        "outputId": "aa56b572-37be-4f18-92de-7e81a018b553"
      },
      "execution_count": 135,
      "outputs": [
        {
          "output_type": "stream",
          "name": "stdout",
          "text": [
            "Cuantos numeros quiere que tenga la serie1\n",
            "2.0\n"
          ]
        }
      ]
    }
  ]
}